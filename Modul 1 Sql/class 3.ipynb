{
 "cells": [
  {
   "cell_type": "code",
   "execution_count": 0,
   "metadata": {
    "application/vnd.databricks.v1+cell": {
     "cellMetadata": {
      "byteLimit": 2048000,
      "rowLimit": 10000
     },
     "collapsed": true,
     "inputWidgets": {},
     "nuid": "3e3bf759-bbbf-41e2-8939-e124ce92d4d5",
     "showTitle": false,
     "tableResultSettingsMap": {},
     "title": ""
    }
   },
   "outputs": [],
   "source": [
    "create table customer(\n",
    "    customer_id INT ,\n",
    "    first_name VARCHAR(50),\n",
    "    last_name VARCHAR(50),\n",
    "    city VARCHAR(50),\n",
    "    email VARCHAR(100)\n",
    ")"
   ]
  },
  {
   "cell_type": "code",
   "execution_count": 0,
   "metadata": {
    "application/vnd.databricks.v1+cell": {
     "cellMetadata": {
      "byteLimit": 2048000,
      "rowLimit": 10000
     },
     "inputWidgets": {},
     "nuid": "8482bdde-ed55-4bee-bebb-b325199b3ee1",
     "showTitle": false,
     "tableResultSettingsMap": {},
     "title": ""
    }
   },
   "outputs": [],
   "source": [
    "create table order (\n",
    "   order_id INT ,\n",
    "    customer_id INT,\n",
    "    order_date DATE,\n",
    "    total_amount DECIMAL(10, 2)\n",
    ")"
   ]
  },
  {
   "cell_type": "code",
   "execution_count": 0,
   "metadata": {
    "application/vnd.databricks.v1+cell": {
     "cellMetadata": {
      "byteLimit": 2048000,
      "rowLimit": 10000
     },
     "collapsed": true,
     "inputWidgets": {},
     "nuid": "312d0d65-4d71-4d83-949c-610963c07556",
     "showTitle": false,
     "tableResultSettingsMap": {},
     "title": ""
    }
   },
   "outputs": [],
   "source": [
    "create table orderdetails(\n",
    "   order_detail_id INT ,\n",
    "    order_id INT,\n",
    "    customer_id INT,\n",
    "    product_id INT,\n",
    "    product_name VARCHAR(100),\n",
    "    category VARCHAR(50),\n",
    "    quantity INT,\n",
    "    price_each DECIMAL(10,2),\n",
    "    order_date DATE\n",
    ")"
   ]
  },
  {
   "cell_type": "code",
   "execution_count": 0,
   "metadata": {
    "application/vnd.databricks.v1+cell": {
     "cellMetadata": {
      "byteLimit": 2048000,
      "rowLimit": 10000
     },
     "collapsed": true,
     "inputWidgets": {},
     "nuid": "103c6eda-aa7e-43f7-9038-2ffe74dc14c7",
     "showTitle": false,
     "tableResultSettingsMap": {},
     "title": ""
    }
   },
   "outputs": [],
   "source": [
    "insert into customer\n",
    "  values\n",
    "    \n",
    "      (1, 'John', 'Doe', 'Delhi', 'john.doe@example.com'),\n",
    "      (2, 'Jane', 'Smith', 'Mumbai', 'jane.smith@example.com'),\n",
    "      (3, 'Raj', 'Kumar', 'Bangalore', 'raj.kumar@example.com'),\n",
    "      (4, 'Priya', 'Sharma', 'Hyderabad', 'priya.sharma@example.com'),\n",
    "      (5, 'Tom', 'Brown', 'Pune', 'tom.brown@example.com'),\n",
    "      (6, 'Sara', 'Ali', 'Chennai', 'sara.ali@example.com'),\n",
    "      (7, 'Vikram', 'Singh', 'Delhi', 'vikram.singh@example.com'),\n",
    "      (8, 'Neha', 'Patel', 'Mumbai', 'neha.patel@example.com'),\n",
    "      (9, 'David', 'Lee', 'Kolkata', 'david.lee@example.com'),\n",
    "      (10, 'Amit', 'Verma', 'Jaipur', 'amit.verma@example.com'),\n",
    "      (11, 'Emily', 'Clark', 'Delhi', 'emily.clark@example.com'),\n",
    "      (12, 'Ananya', 'Roy', 'Mumbai', 'ananya.roy@example.com'),\n",
    "      (13, 'Sam', 'Wilson', 'Pune', 'sam.wilson@example.com'),\n",
    "      (14, 'Pooja', 'Das', 'Hyderabad', 'pooja.das@example.com'),\n",
    "      (15, 'Arjun', 'Nair', 'Chennai', 'arjun.nair@example.com'),\n",
    "      (16, 'Kavita', 'Gupta', 'Bangalore', 'kavita.gupta@example.com'),\n",
    "      (17, 'Robert', 'King', 'Delhi', 'robert.king@example.com'),\n",
    "      (18, 'Meera', 'Joshi', 'Mumbai', 'meera.joshi@example.com'),\n",
    "      (19, 'Michael', 'Scott', 'Kolkata', 'michael.scott@example.com'),\n",
    "      (20, 'Ravi', 'Menon', 'Pune', 'ravi.menon@example.com'),\n",
    "      (21, 'Tina', 'Fernandez', 'Delhi', 'tina.fernandez@example.com'),\n",
    "      (22, 'Arvind', 'Singh', 'Hyderabad', 'arvind.singh@example.com'),\n",
    "      (23, 'Lucy', 'Adams', 'Chennai', 'lucy.adams@example.com'),\n",
    "      (24, 'Karan', 'Malhotra', 'Mumbai', 'karan.malhotra@example.com'),\n",
    "      (25, 'Sneha', 'Reddy', 'Pune', 'sneha.reddy@example.com'),\n",
    "      (26, 'George', 'Mason', 'Bangalore', 'george.mason@example.com'),\n",
    "      (27, 'Vishal', 'Kapoor', 'Kolkata', 'vishal.kapoor@example.com'),\n",
    "      (28, 'Emma', 'Watson', 'Delhi', 'emma.watson@example.com'),\n",
    "      (29, 'Siddharth', 'Jain', 'Hyderabad', 'siddharth.jain@example.com'),\n",
    "      (30, 'Olivia', 'Brown', 'Chennai', 'olivia.brown@example.com'),\n",
    "      (31, 'Nikhil', 'Arora', 'Mumbai', 'nikhil.arora@example.com'),\n",
    "      (32, 'Ayesha', 'Khan', 'Delhi', 'ayesha.khan@example.com'),\n",
    "      (33, 'Chris', 'Evans', 'Bangalore', 'chris.evans@example.com'),\n",
    "      (34, 'Ishita', 'Bhatt', 'Kolkata', 'ishita.bhatt@example.com'),\n",
    "      (35, 'Shyam', 'Patil', 'Pune', 'shyam.patil@example.com'),\n",
    "      (36, 'Sophia', 'Green', 'Chennai', 'sophia.green@example.com'),\n",
    "      (37, 'Harsh', 'Aggarwal', 'Hyderabad', 'harsh.aggarwal@example.com'),\n",
    "      (38, 'Liam', 'Martin', 'Delhi', 'liam.martin@example.com'),\n",
    "      (39, 'Diya', 'Saxena', 'Mumbai', 'diya.saxena@example.com'),\n",
    "      (40, 'Jason', 'Taylor', 'Kolkata', 'jason.taylor@example.com'),\n",
    "      (41, 'Ritika', 'Mehra', 'Pune', 'ritika.mehra@example.com'),\n",
    "      (42, 'Steve', 'Jobs', 'Bangalore', 'steve.jobs@example.com'),\n",
    "      (43, 'Alisha', 'Paul', 'Hyderabad', 'alisha.paul@example.com'),\n",
    "      (44, 'Dhruv', 'Singhania', 'Chennai', 'dhruv.singhania@example.com'),\n",
    "      (45, 'Rebecca', 'Lewis', 'Delhi', 'rebecca.lewis@example.com'),\n",
    "      (46, 'Naveen', 'Shetty', 'Mumbai', 'naveen.shetty@example.com'),\n",
    "      (47, 'Julia', 'Roberts', 'Pune', 'julia.roberts@example.com'),\n",
    "      (48, 'Parth', 'Desai', 'Hyderabad', 'parth.desai@example.com'),\n",
    "      (49, 'Nina', 'Shah', 'Chennai', 'nina.shah@example.com'),\n",
    "      (50, 'Aria', 'Gill', 'Bangalore', 'aria.gill@example.com')\n",
    "    "
   ]
  },
  {
   "cell_type": "code",
   "execution_count": 0,
   "metadata": {
    "application/vnd.databricks.v1+cell": {
     "cellMetadata": {
      "byteLimit": 2048000,
      "rowLimit": 10000
     },
     "collapsed": true,
     "inputWidgets": {},
     "nuid": "03e12c7a-87ad-4347-8127-500f8c73b1b4",
     "showTitle": false,
     "tableResultSettingsMap": {},
     "title": ""
    }
   },
   "outputs": [],
   "source": [
    "select * from customer"
   ]
  },
  {
   "cell_type": "code",
   "execution_count": 0,
   "metadata": {
    "application/vnd.databricks.v1+cell": {
     "cellMetadata": {
      "byteLimit": 2048000,
      "rowLimit": 10000
     },
     "collapsed": true,
     "inputWidgets": {},
     "nuid": "5049e841-a0f4-44f9-ab5c-ab0b33e52611",
     "showTitle": false,
     "tableResultSettingsMap": {},
     "title": ""
    }
   },
   "outputs": [],
   "source": [
    "insert into order values (1001, 1, '2023-01-10', 1500.00),\n",
    "(1002, 2, '2023-01-11', 2500.00),\n",
    "(1003, 3, '2023-01-15', 500.00),\n",
    "(1004, 1, '2023-02-01', 750.00),\n",
    "(1005, 4, '2023-02-05', 2000.00),\n",
    "(1006, 5, '2023-02-08', 1800.00),\n",
    "(1007, 6, '2023-03-01', 2200.00),\n",
    "(1008, 7, '2023-03-05', 3000.00),\n",
    "(1009, 8, '2023-03-09', 1200.00),\n",
    "(1010, 9, '2023-03-10', 900.00),\n",
    "(1011, 10, '2023-03-12', 1900.00),\n",
    "(1012, 11, '2023-03-15', 1500.00),\n",
    "(1013, 12, '2023-03-18', 2400.00),\n",
    "(1014, 13, '2023-03-20', 600.00),\n",
    "(1015, 14, '2023-03-22', 3000.00),\n",
    "(1016, 15, '2023-03-25', 2800.00),\n",
    "(1017, 16, '2023-03-28', 3200.00),\n",
    "(1018, 17, '2023-03-30', 500.00),\n",
    "(1019, 18, '2023-04-01', 950.00),\n",
    "(1020, 19, '2023-04-03', 1750.00),\n",
    "(1021, 20, '2023-04-05', 2100.00),\n",
    "(1022, 21, '2023-04-08', 1200.00),\n",
    "(1023, 22, '2023-04-10', 1400.00),\n",
    "(1024, 23, '2023-04-12', 800.00),\n",
    "(1025, 24, '2023-04-14', 3300.00),\n",
    "(1026, 25, '2023-04-16', 2400.00),\n",
    "(1027, 26, '2023-04-18', 1800.00),\n",
    "(1028, 27, '2023-04-20', 2000.00),\n",
    "(1029, 28, '2023-04-22', 2200.00),\n",
    "(1030, 29, '2023-04-24', 1950.00),\n",
    "(1031, 30, '2023-04-26', 2600.00),\n",
    "(1032, 31, '2023-04-28', 1550.00),\n",
    "(1033, 32, '2023-05-01', 2700.00),\n",
    "(1034, 33, '2023-05-03', 1000.00),\n",
    "(1035, 34, '2023-05-05', 1900.00),\n",
    "(1036, 35, '2023-05-07', 2100.00),\n",
    "(1037, 36, '2023-05-09', 1100.00),\n",
    "(1038, 37, '2023-05-11', 1250.00),\n",
    "(1039, 38, '2023-05-13', 1850.00),\n",
    "(1040, 39, '2023-05-15', 1400.00),\n",
    "(1041, 40, '2023-05-17', 1750.00),\n",
    "(1042, 41, '2023-05-19', 900.00),\n",
    "(1043, 42, '2023-05-21', 2500.00),\n",
    "(1044, 43, '2023-05-23', 3000.00),\n",
    "(1045, 44, '2023-05-25', 2100.00),\n",
    "(1046, 45, '2023-05-27', 2600.00),\n",
    "(1047, 46, '2023-05-29', 2700.00),\n",
    "(1048, 47, '2023-05-31', 2800.00),\n",
    "(1049, 48, '2023-06-02', 1500.00),\n",
    "(1050, 49, '2023-06-04', 1200.00),\n",
    "(1051, 50, '2023-06-06', 800.00),\n",
    "(1052, 1, '2023-06-08', 2000.00),\n",
    "(1053, 2, '2023-06-10', 2300.00),\n",
    "(1054, 3, '2023-06-12', 1400.00),\n",
    "(1055, 4, '2023-06-14', 1750.00),\n",
    "(1056, 5, '2023-06-16', 2600.00),\n",
    "(1057, 6, '2023-06-18', 2100.00),\n",
    "(1058, 7, '2023-06-20', 900.00),\n",
    "(1059, 8, '2023-06-22', 3000.00),\n",
    "(1060, 9, '2023-06-24', 1200.00),\n",
    "(1061, 10, '2023-06-26', 1850.00),\n",
    "(1062, 11, '2023-06-28', 1750.00),\n",
    "(1063, 12, '2023-06-30', 1600.00),\n",
    "(1064, 13, '2023-07-02', 950.00),\n",
    "(1065, 14, '2023-07-04', 2100.00),\n",
    "(1066, 15, '2023-07-06', 2500.00),\n",
    "(1067, 16, '2023-07-08', 3000.00),\n",
    "(1068, 17, '2023-07-10', 2700.00),\n",
    "(1069, 18, '2023-07-12', 1500.00),\n",
    "(1070, 19, '2023-07-14', 1400.00);\n"
   ]
  },
  {
   "cell_type": "code",
   "execution_count": 0,
   "metadata": {
    "application/vnd.databricks.v1+cell": {
     "cellMetadata": {
      "byteLimit": 2048000,
      "rowLimit": 10000
     },
     "inputWidgets": {},
     "nuid": "15edbdb2-aebc-47cc-96be-737ccb3e5033",
     "showTitle": false,
     "tableResultSettingsMap": {},
     "title": ""
    }
   },
   "outputs": [],
   "source": [
    "select * from order"
   ]
  },
  {
   "cell_type": "code",
   "execution_count": 0,
   "metadata": {
    "application/vnd.databricks.v1+cell": {
     "cellMetadata": {
      "byteLimit": 2048000,
      "rowLimit": 10000
     },
     "collapsed": true,
     "inputWidgets": {},
     "nuid": "155b7bad-4277-4dde-b9d5-600eeca9f188",
     "showTitle": false,
     "tableResultSettingsMap": {},
     "title": ""
    }
   },
   "outputs": [],
   "source": [
    "insert into orderdetails values (1, 1001, 1, 201, 'Laptop', 'Electronics', 1, 50000.00, '2023-01-10'),\n",
    "(2, 1001, 1, 203, 'Headphones', 'Accessories', 2, 2000.00, '2023-01-10'),\n",
    "(3, 1002, 2, 202, 'Smartphone', 'Electronics', 1, 30000.00, '2023-01-11'),\n",
    "(4, 1003, 3, 205, 'Water Bottle', 'Kitchen', 3, 500.00, '2023-01-15'),\n",
    "(5, 1004, 1, 208, 'Bluetooth Speaker', 'Electronics', 1, 3500.00, '2023-02-01'),\n",
    "(6, 1005, 4, 204, 'Desk Chair', 'Furniture', 1, 4000.00, '2023-02-05'),\n",
    "(7, 1006, 5, 207, 'Office Desk', 'Furniture', 1, 7000.00, '2023-02-08'),\n",
    "(8, 1007, 6, 211, 'Tablet', 'Electronics', 2, 25000.00, '2023-03-01'),\n",
    "(9, 1008, 7, 215, 'Gaming Chair', 'Furniture', 1, 15000.00, '2023-03-05'),\n",
    "(10, 1009, 8, 209, 'Notebook', 'Stationery', 5, 200.00, '2023-03-09');"
   ]
  },
  {
   "cell_type": "code",
   "execution_count": 0,
   "metadata": {
    "application/vnd.databricks.v1+cell": {
     "cellMetadata": {
      "byteLimit": 2048000,
      "rowLimit": 10000
     },
     "collapsed": true,
     "inputWidgets": {},
     "nuid": "90533cb3-af4e-4d55-88c0-96458389ccea",
     "showTitle": false,
     "tableResultSettingsMap": {},
     "title": ""
    }
   },
   "outputs": [],
   "source": [
    "select * from orderdetails"
   ]
  },
  {
   "cell_type": "code",
   "execution_count": 0,
   "metadata": {
    "application/vnd.databricks.v1+cell": {
     "cellMetadata": {
      "byteLimit": 2048000,
      "rowLimit": 10000
     },
     "collapsed": true,
     "inputWidgets": {},
     "nuid": "b9577aa6-fc0d-4ef6-8ef1-01fb51df6107",
     "showTitle": false,
     "tableResultSettingsMap": {},
     "title": ""
    }
   },
   "outputs": [],
   "source": [
    "-----------Innerjoin------------\n",
    "--List all the cusotmer orders with product details \n",
    "--INNER JOIN\n",
    "\n",
    "select\n",
    "c.customer_id,c.first_name,c.last_name,o.order_id,o.customer_id\n",
    "from customer as c\n",
    "inner join order as o on c.customer_id=o.customer_id\n",
    " \n",
    "\n"
   ]
  },
  {
   "cell_type": "code",
   "execution_count": 0,
   "metadata": {
    "application/vnd.databricks.v1+cell": {
     "cellMetadata": {
      "byteLimit": 2048000,
      "rowLimit": 10000
     },
     "collapsed": true,
     "inputWidgets": {},
     "nuid": "6096edac-2a9a-4c65-a994-5e08b01615a9",
     "showTitle": false,
     "tableResultSettingsMap": {},
     "title": ""
    }
   },
   "outputs": [],
   "source": [
    "--Full Breakdown : custoemrs,order, product_info\n",
    "\n",
    "select\n",
    "od.order_id,o.customer_id,c.first_name,c.last_name,od.price_each,od.quantity\n",
    "\n",
    "from orderdetails as od\n",
    "inner join order as o on o.order_id=o.order_id\n",
    "inner join customer as c on c.customer_id = c.customer_id\n"
   ]
  },
  {
   "cell_type": "code",
   "execution_count": 0,
   "metadata": {
    "application/vnd.databricks.v1+cell": {
     "cellMetadata": {
      "byteLimit": 2048000,
      "rowLimit": 10000
     },
     "inputWidgets": {},
     "nuid": "f8d74717-f128-440e-8c34-de166baa42cd",
     "showTitle": false,
     "tableResultSettingsMap": {},
     "title": ""
    }
   },
   "outputs": [],
   "source": [
    "\n",
    "--show inactive and active customers \n",
    "\n",
    "select\n",
    "c.first_name,c.last_name,o.order_id,o.order_date\n",
    "from customer as c\n",
    "left join  order as o on c.customer_id=o.customer_id\n"
   ]
  }
 ],
 "metadata": {
  "application/vnd.databricks.v1+notebook": {
   "computePreferences": null,
   "dashboards": [],
   "environmentMetadata": {
    "base_environment": "",
    "environment_version": "4"
   },
   "inputWidgetPreferences": null,
   "language": "sql",
   "notebookMetadata": {
    "pythonIndentUnit": 4
   },
   "notebookName": "class 3",
   "widgets": {}
  },
  "language_info": {
   "name": "sql"
  }
 },
 "nbformat": 4,
 "nbformat_minor": 0
}
